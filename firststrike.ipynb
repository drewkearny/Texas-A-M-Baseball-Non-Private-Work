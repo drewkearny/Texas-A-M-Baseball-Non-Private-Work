{
 "cells": [
  {
   "cell_type": "code",
   "execution_count": 1,
   "id": "51bf41c9-5d52-4063-92df-3f6c72496678",
   "metadata": {},
   "outputs": [],
   "source": [
    "import pandas as pd\n",
    "\n",
    "df = pd.read_csv('D1BaseballTrackman.csv')\n"
   ]
  },
  {
   "cell_type": "code",
   "execution_count": 3,
   "id": "75783b3e-b0c5-47c3-ae49-1b59d9512d48",
   "metadata": {},
   "outputs": [],
   "source": [
    "sec_teams = [\n",
    "    \"TEX_AGG\", \"ARK_RAZ\", \"LSU_TIG\", \"OLE_REB\", \"MSU_BDG\",\n",
    "    \"ALA_CRI\", \"AUB_TIG\", \"VAN_COM\", \"TEN_VOL\", \"GEO_BUL\",\n",
    "    \"SOU_GAM\", \"FLA_GAT\", \"KEN_WIL\", \"MIZ_TIG\"\n",
    "]\n",
    "df['Events'] = df['Events'].replace('HitbyPitch', 'HitByPitch')\n",
    "df['Events'] = df['Events'].replace('Hitbypitch', 'HitByPitch')\n",
    "df['Events'] = df['Events'].replace('StirkeCalled', 'StrikeCalled')\n",
    "\n",
    "# Filter the dataframe for the specific team abbreviations in both BatterTeam and PitcherTeam\n",
    "df['SEC_Game'] = df.apply(lambda row: row['PitcherTeam'] in sec_teams and row['BatterTeam'] in sec_teams, axis=1)\n",
    "dfs = df[df['SEC_Game']]"
   ]
  },
  {
   "cell_type": "code",
   "execution_count": 3,
   "id": "a5f5ec2d-3bb4-4768-9ed3-d3180d157621",
   "metadata": {},
   "outputs": [],
   "source": [
    "#sample_df = data.sample(n=100)\n",
    "#sample_df.to_csv('sample_data.csv', index=False)\n"
   ]
  },
  {
   "cell_type": "code",
   "execution_count": 19,
   "id": "ad0675ef-debe-4e98-a9b6-a253db59d928",
   "metadata": {},
   "outputs": [
    {
     "data": {
      "text/plain": [
       "array(['Single', 'Out', 'FoulBall', 'StrikeCalled', 'StrikeSwinging',\n",
       "       'BallCalled', 'BallinDirt', 'HomeRun', 'Double', 'HitByPitch',\n",
       "       'Triple', 'FieldersChoice'], dtype=object)"
      ]
     },
     "execution_count": 19,
     "metadata": {},
     "output_type": "execute_result"
    }
   ],
   "source": [
    "df['Events'].unique()\n",
    "dfs['AtBatID'] = dfs['GameID'].astype(str) + '_' + dfs['Batter'].astype(str) + '_' + dfs['Inning'].astype(str) + '_' + dfs['Pitcher'].astype(str)\n",
    "df_0_0 = dfs[dfs['Count'] == '0-0']\n"
   ]
  },
  {
   "cell_type": "code",
   "execution_count": 31,
   "id": "1e49f292-794a-4260-b04b-031923229648",
   "metadata": {},
   "outputs": [
    {
     "name": "stderr",
     "output_type": "stream",
     "text": [
      "C:\\Users\\kearn\\AppData\\Local\\Temp/ipykernel_17192/200192304.py:1: SettingWithCopyWarning: \n",
      "A value is trying to be set on a copy of a slice from a DataFrame.\n",
      "Try using .loc[row_indexer,col_indexer] = value instead\n",
      "\n",
      "See the caveats in the documentation: https://pandas.pydata.org/pandas-docs/stable/user_guide/indexing.html#returning-a-view-versus-a-copy\n",
      "  dfs['AtBatID'] = dfs['GameID'].astype(str) + '_' + dfs['Batter'].astype(str) + '_' + dfs['Inning'].astype(str) + '_' + dfs['Pitcher'].astype(str)\n"
     ]
    },
    {
     "data": {
      "text/plain": [
       "(0.3485576923076923, 0.3375887493173129)"
      ]
     },
     "execution_count": 31,
     "metadata": {},
     "output_type": "execute_result"
    }
   ],
   "source": [
    "\n",
    "# Sort the DataFrame to ensure it's in chronological order, which is crucial for accurately identifying the first pitch and the outcome of each at-bat\n",
    "df_sorted = dfs.sort_values(['Date', 'GameID', 'Inning', 'AtBatID'])\n",
    "\n",
    "# Identify the first pitch of each at-bat as the row where 'Count' is '0-0'\n",
    "df_sorted['IsFirstPitch'] = df_sorted.groupby('AtBatID')['Count'].transform(lambda x: x == '0-0')\n",
    "\n",
    "# Only keep the first occurrence of '0-0' count as the first pitch for each at-bat\n",
    "df_first_pitch = df_sorted[df_sorted['IsFirstPitch']].drop_duplicates(subset=['AtBatID'])\n",
    "\n",
    "df_first_pitch['FirstPitchOutcome'] = df_first_pitch['Events'].apply(\n",
    "    lambda x: 'Strike' if x in ['StrikeCalled', 'StrikeSwinging', 'FoulBall'] else ('Ball' if x in ['BallCalled', 'HitByPitch', 'BallinDirt'] else 'InPlay')\n",
    ")\n",
    "\n",
    "# Continue with the previously outlined steps to merge this information back into the main DataFrame\n",
    "df_merged = df_sorted.merge(df_first_pitch[['AtBatID', 'FirstPitchOutcome']], on='AtBatID', how='left')\n",
    "\n",
    "# Now, update the logic to identify at-bats ending in an out based on this refined outcome categorization\n",
    "df_merged['AtBatEndsInOut'] = df_merged['Events'] == 'Out'\n",
    "df_merged['AtBatEndsInOut'] = df_merged.groupby('AtBatID')['AtBatEndsInOut'].transform('max')\n",
    "\n",
    "# Calculate the total at-bats for each first pitch outcome and the number ending in an out\n",
    "df_at_bat = df_merged.groupby('AtBatID').agg({\n",
    "    'FirstPitchOutcome': 'first',  # Since all rows per at-bat have the same outcome after merge, 'first' works\n",
    "    'AtBatEndsInOut': 'max'  # 'max' here captures if any part of the at-bat ended in an out (True if any row is True)\n",
    "}).reset_index()\n",
    "\n",
    "# Calculate the number of at-bats NOT ending in an out for each first pitch outcome\n",
    "at_bats_not_ending_in_out_strike = df_at_bat[(df_at_bat['FirstPitchOutcome'] == 'Strike') & (~df_at_bat['AtBatEndsInOut'])]['AtBatID'].nunique()\n",
    "at_bats_not_ending_in_out_ball = df_at_bat[(df_at_bat['FirstPitchOutcome'] == 'Ball') & (~df_at_bat['AtBatEndsInOut'])]['AtBatID'].nunique()\n",
    "at_bats_not_ending_in_out_inplay = df_at_bat[(df_at_bat['FirstPitchOutcome'] == 'InPlay') & (~df_at_bat['AtBatEndsInOut'])]['AtBatID'].nunique()\n",
    "\n",
    "# Total at-bats for each first pitch outcome (calculated previously)\n",
    "total_at_bats_strike = df_at_bat[df_at_bat['FirstPitchOutcome'] == 'Strike']['AtBatID'].nunique()\n",
    "total_at_bats_ball = df_at_bat[df_at_bat['FirstPitchOutcome'] == 'Ball']['AtBatID'].nunique()\n",
    "total_at_bats_inplay = df_at_bat[df_at_bat['FirstPitchOutcome'] == 'InPlay']['AtBatID'].nunique()\n",
    "\n",
    "# Now df_at_bat contains one row per at-bat with the necessary information\n",
    "# Calculate the total number of at-bats for each first pitch outcome\n",
    "total_at_bats = df_at_bat['AtBatID'].nunique()\n",
    "\n",
    "# Calculate the number of at-bats ending in an out for each first pitch outcome\n",
    "at_bats_ending_in_out_strike = df_at_bat[(df_at_bat['FirstPitchOutcome'] == 'Strike') & (df_at_bat['AtBatEndsInOut'])]['AtBatID'].nunique()\n",
    "at_bats_ending_in_out_ball = df_at_bat[(df_at_bat['FirstPitchOutcome'] == 'Ball') & (df_at_bat['AtBatEndsInOut'])]['AtBatID'].nunique()\n",
    "at_bats_ending_in_out_inplay = df_at_bat[(df_at_bat['FirstPitchOutcome'] == 'InPlay') & (df_at_bat['AtBatEndsInOut'])]['AtBatID'].nunique()\n",
    "\n",
    "# Calculate probabilities\n",
    "prob_out_after_strike = at_bats_ending_in_out_strike / total_at_bats_strike \n",
    "prob_out_after_ball = at_bats_ending_in_out_ball / total_at_bats_ball\n",
    "\n",
    "\n",
    "prob_out_after_strike, prob_out_after_ball\n"
   ]
  },
  {
   "cell_type": "code",
   "execution_count": 32,
   "id": "a2e0994c-b00b-430d-ab89-d4c52027fa2d",
   "metadata": {},
   "outputs": [
    {
     "data": {
      "text/plain": [
       "(0.6514423076923077, 0.662411250682687)"
      ]
     },
     "execution_count": 32,
     "metadata": {},
     "output_type": "execute_result"
    }
   ],
   "source": [
    "chance_no_out_after_strike = at_bats_not_ending_in_out_strike / total_at_bats_strike\n",
    "chance_no_out_after_ball = at_bats_not_ending_in_out_ball / total_at_bats_ball\n",
    "\n",
    "chance_no_out_after_strike, chance_no_out_after_ball\n"
   ]
  },
  {
   "cell_type": "code",
   "execution_count": 28,
   "id": "42856b72-327d-4d9e-8297-da94c37aa9de",
   "metadata": {},
   "outputs": [],
   "source": [
    "\n",
    "df_filtered = df_0_0[df_0_0['Events'] != 'BallCalled']\n",
    "df_filtered = df_filtered[df_filtered['Events'] != 'HitByPitch']\n",
    "df_filtered = df_filtered[df_filtered['Events'] != 'BallinDirt']\n",
    "df_filtered = df_filtered[df_filtered['Events'] != 'FieldersChoice']\n",
    "\n",
    "# Step 3: Calculate the probability where the event is either 'Out' or a type of strike\n",
    "# Define the types of strikes for clarity\n",
    "strike_types = ['StrikeCalled', 'StrikeSwinging', 'FoulBall']\n",
    "\n",
    "# Count the number of rows where the event is 'Out' or a type of strike\n",
    "num_out_or_strike = df_filtered[df_filtered['Events'].isin(strike_types + ['Out'])].shape[0]\n",
    "\n",
    "num_hits = df_filtered[df_filtered['Events'].isin(['Single', 'Double', 'Triple', 'HomeRun'])].shape[0]\n",
    "\n",
    "# Total number of rows after filtering (Step 2)\n",
    "total_rows_after_filtering = df_filtered.shape[0]\n",
    "\n",
    "# Calculate the probability\n",
    "probability_out_or_strike = num_out_or_strike / total_rows_after_filtering if total_rows_after_filtering > 0 else 0\n",
    "\n",
    "probability_hit = num_hits / total_rows_after_filtering if total_rows_after_filtering > 0 else 0\n",
    "\n",
    "probability_out_or_strike, probability_hit "
   ]
  },
  {
   "cell_type": "code",
   "execution_count": 34,
   "id": "3935ff81-1088-43bc-9712-b136495a6b16",
   "metadata": {},
   "outputs": [
    {
     "name": "stdout",
     "output_type": "stream",
     "text": [
      "  Count  Probability Out or Strike  Probability Hit\n",
      "0   0-0                   0.934273         0.065727\n",
      "1   0-1                   0.904190         0.095810\n",
      "2   0-2                   0.888889         0.111111\n",
      "3   1-2                   0.885959         0.114041\n",
      "4   2-2                   0.879493         0.120507\n",
      "5   3-2                   0.868083         0.131917\n"
     ]
    }
   ],
   "source": [
    "counts = ['0-0', '0-1', '0-2', '1-2', '2-2', '3-2']\n",
    "\n",
    "# Define the events to exclude\n",
    "excluded_events = ['BallCalled', 'HitByPitch', 'BallinDirt', 'FieldersChoice']\n",
    "\n",
    "# Define the types of strikes for clarity\n",
    "strike_types = ['StrikeCalled', 'StrikeSwinging', 'FoulBall']\n",
    "\n",
    "# Initialize an empty list to store the results\n",
    "results = []\n",
    "\n",
    "for count in counts:\n",
    "    # Filter the DataFrame for the current count and exclude specific events\n",
    "    df_filtered = dfs[(dfs['Count'] == count) & (~dfs['Events'].isin(excluded_events))]\n",
    "    \n",
    "    # Count the number of rows where the event is 'Out' or a type of strike\n",
    "    num_out_or_strike = df_filtered[df_filtered['Events'].isin(strike_types + ['Out'])].shape[0]\n",
    "    \n",
    "    # Count the number of hits\n",
    "    num_hits = df_filtered[df_filtered['Events'].isin(['Single', 'Double', 'Triple', 'HomeRun'])].shape[0]\n",
    "    \n",
    "    # Total number of rows after filtering\n",
    "    total_rows_after_filtering = df_filtered.shape[0]\n",
    "    \n",
    "    # Calculate the probabilities\n",
    "    probability_out_or_strike = num_out_or_strike / total_rows_after_filtering if total_rows_after_filtering > 0 else 0\n",
    "    probability_hit = num_hits / total_rows_after_filtering if total_rows_after_filtering > 0 else 0\n",
    "    \n",
    "    # Append the results\n",
    "    results.append({\n",
    "        'Count': count,\n",
    "        'Probability Out or Strike': probability_out_or_strike,\n",
    "        'Probability Hit': probability_hit\n",
    "    })\n",
    "\n",
    "# Convert the results into a DataFrame for display\n",
    "results_df = pd.DataFrame(results)\n",
    "\n",
    "# Display the table\n",
    "print(results_df)"
   ]
  },
  {
   "cell_type": "code",
   "execution_count": 27,
   "id": "85341783-8fb7-4ad2-a8f2-3f2e95c9f619",
   "metadata": {},
   "outputs": [
    {
     "data": {
      "text/plain": [
       "20083"
      ]
     },
     "execution_count": 27,
     "metadata": {},
     "output_type": "execute_result"
    }
   ],
   "source": [
    "total_rows_after_filtering "
   ]
  },
  {
   "cell_type": "code",
   "execution_count": 33,
   "id": "61358901-23b0-48eb-b169-0adf22e0b0da",
   "metadata": {},
   "outputs": [
    {
     "data": {
      "text/plain": [
       "array(['FoulBall', 'BallCalled', 'StrikeCalled', 'Single', 'Out',\n",
       "       'StrikeSwinging', 'Double', 'HomeRun', 'HitByPitch', 'BallinDirt',\n",
       "       'FieldersChoice', 'Triple'], dtype=object)"
      ]
     },
     "execution_count": 33,
     "metadata": {},
     "output_type": "execute_result"
    }
   ],
   "source": [
    "df_0_0['Events'].unique()"
   ]
  },
  {
   "cell_type": "code",
   "execution_count": 35,
   "id": "b333b77e-4379-43e2-a37b-13fbec8183c8",
   "metadata": {},
   "outputs": [
    {
     "data": {
      "text/plain": [
       "0.42195999424377606"
      ]
     },
     "execution_count": 35,
     "metadata": {},
     "output_type": "execute_result"
    }
   ],
   "source": [
    "num_specified_events = df_0_0[df_0_0['Events'].isin(['BallCalled', 'HitByPitch', 'BallinDirt'])].shape[0]\n",
    "\n",
    "# Get the total row count of the DataFrame\n",
    "total_rows = df_0_0.shape[0]\n",
    "\n",
    "# Calculate the proportion of specified events\n",
    "firstpitch_ball_percentage = num_specified_events / total_rows if total_rows > 0 else 0\n",
    "\n",
    "firstpitch_ball_percentage"
   ]
  },
  {
   "cell_type": "code",
   "execution_count": 36,
   "id": "775a70e9-ecc1-482b-aa31-b87afb0b7616",
   "metadata": {},
   "outputs": [
    {
     "data": {
      "text/plain": [
       "0.5780400057562239"
      ]
     },
     "execution_count": 36,
     "metadata": {},
     "output_type": "execute_result"
    }
   ],
   "source": [
    "first_pitch_strike_percentage = 1 - firstpitch_ball_percentage\n",
    "\n",
    "first_pitch_strike_percentage"
   ]
  },
  {
   "cell_type": "code",
   "execution_count": 38,
   "id": "94f7c2c9-bed1-4a14-8b5b-b5125e6f6125",
   "metadata": {},
   "outputs": [
    {
     "data": {
      "text/plain": [
       "array(['FoulBall', 'BallCalled', 'StrikeCalled', 'InPlay',\n",
       "       'StrikeSwinging', 'HitByPitch', 'BallinDirt'], dtype=object)"
      ]
     },
     "execution_count": 38,
     "metadata": {},
     "output_type": "execute_result"
    }
   ],
   "source": [
    "df_0_0['PitchCall'].unique()"
   ]
  },
  {
   "cell_type": "code",
   "execution_count": 42,
   "id": "6860fc13-f69b-429d-a967-93d2fc4b147b",
   "metadata": {},
   "outputs": [
    {
     "data": {
      "text/plain": [
       "array(['Undefined', 'Walk', 'Strikeout'], dtype=object)"
      ]
     },
     "execution_count": 42,
     "metadata": {},
     "output_type": "execute_result"
    }
   ],
   "source": [
    "df['KorBB'].unique()"
   ]
  },
  {
   "cell_type": "code",
   "execution_count": 44,
   "id": "4194c5b0-da1e-4bc2-b23b-bb5df34007fd",
   "metadata": {},
   "outputs": [
    {
     "name": "stderr",
     "output_type": "stream",
     "text": [
      "C:\\Users\\kearn\\AppData\\Local\\Temp/ipykernel_17192/484697343.py:10: SettingWithCopyWarning: \n",
      "A value is trying to be set on a copy of a slice from a DataFrame.\n",
      "Try using .loc[row_indexer,col_indexer] = value instead\n",
      "\n",
      "See the caveats in the documentation: https://pandas.pydata.org/pandas-docs/stable/user_guide/indexing.html#returning-a-view-versus-a-copy\n",
      "  first_pitches['FirstPitchType'] = first_pitches['Events'].apply(lambda x: 'Strike' if x in ['FoulBall', 'StrikeCalled', 'StrikeSwinging']\n"
     ]
    },
    {
     "name": "stdout",
     "output_type": "stream",
     "text": [
      "Percentage of strikeouts that start with a first pitch strike: 65.85%\n",
      "Percentage of walks that start with a first pitch ball: 71.9%\n"
     ]
    }
   ],
   "source": [
    "df_sorted = dfs.sort_values(by=['GameID', 'Inning', 'Batter', 'Date'], ascending=True)\n",
    "\n",
    "# Identify the first pitch of each at-bat\n",
    "df_sorted['IsFirstPitch'] = df_sorted.groupby(['GameID', 'Inning', 'Batter'])['Count'].transform(lambda x: x == '0-0')\n",
    "\n",
    "# Filter for rows that are the first pitch of an at-bat\n",
    "first_pitches = df_sorted[df_sorted['IsFirstPitch']]\n",
    "\n",
    "# Determine whether the first pitch is a strike or a ball\n",
    "first_pitches['FirstPitchType'] = first_pitches['Events'].apply(lambda x: 'Strike' if x in ['FoulBall', 'StrikeCalled', 'StrikeSwinging']\n",
    "                                                                else 'Ball' if x in ['BallCalled', 'BallinDirt']\n",
    "                                                                else 'Unknown')\n",
    "\n",
    "# Now, filter the original DataFrame for strikeouts and walks\n",
    "strikeouts = df_sorted[df_sorted['KorBB'] == 'Strikeout']\n",
    "walks = df_sorted[df_sorted['KorBB'] == 'Walk']\n",
    "\n",
    "# Merge the strikeouts and walks with the first_pitches to associate the first pitch type with each event\n",
    "strikeouts_with_first_pitch = pd.merge(strikeouts, first_pitches[['GameID', 'Inning', 'Batter', 'FirstPitchType']], \n",
    "                                       on=['GameID', 'Inning', 'Batter'], \n",
    "                                       how='left')\n",
    "\n",
    "walks_with_first_pitch = pd.merge(walks, first_pitches[['GameID', 'Inning', 'Batter', 'FirstPitchType']], \n",
    "                                  on=['GameID', 'Inning', 'Batter'], \n",
    "                                  how='left')\n",
    "\n",
    "# Calculate the percentage of strikeouts and walks that start with a first pitch strike or ball\n",
    "percentage_strikeouts_first_pitch_strike = round((strikeouts_with_first_pitch['FirstPitchType'] == 'Strike').mean() * 100, 2)\n",
    "percentage_walks_first_pitch_ball = round((walks_with_first_pitch['FirstPitchType'] == 'Ball').mean() * 100, 2)\n",
    "\n",
    "print(f\"Percentage of strikeouts that start with a first pitch strike: {percentage_strikeouts_first_pitch_strike}%\")\n",
    "print(f\"Percentage of walks that start with a first pitch ball: {percentage_walks_first_pitch_ball}%\")"
   ]
  },
  {
   "cell_type": "code",
   "execution_count": 46,
   "id": "d65dd40d-9c57-461f-8571-dc9fa6032c36",
   "metadata": {},
   "outputs": [
    {
     "data": {
      "text/plain": [
       "0.40827147401908803"
      ]
     },
     "execution_count": 46,
     "metadata": {},
     "output_type": "execute_result"
    }
   ],
   "source": [
    "df_3_0 = dfs[dfs['Count'] == '3-0']\n",
    "\n",
    "num_specified_events = df_3_0[df_3_0['Events'].isin(['BallCalled', 'HitByPitch', 'BallinDirt'])].shape[0]\n",
    "\n",
    "# Get the total row count of the DataFrame\n",
    "total_rows = df_3_0.shape[0]\n",
    "\n",
    "# Calculate the proportion of specified events\n",
    "firstpitch_ball_percentage = num_specified_events / total_rows if total_rows > 0 else 0\n",
    "\n",
    "firstpitch_ball_percentage"
   ]
  },
  {
   "cell_type": "code",
   "execution_count": 47,
   "id": "30300ef4-3f8e-4fa0-bc7f-98454aea623a",
   "metadata": {},
   "outputs": [
    {
     "data": {
      "text/plain": [
       "0.591728525980912"
      ]
     },
     "execution_count": 47,
     "metadata": {},
     "output_type": "execute_result"
    }
   ],
   "source": [
    "first_pitch_strike_percentage = 1 - firstpitch_ball_percentage\n",
    "\n",
    "first_pitch_strike_percentage"
   ]
  },
  {
   "cell_type": "code",
   "execution_count": null,
   "id": "b79c6e61-4dd7-48e0-9bb3-30c9b712a430",
   "metadata": {},
   "outputs": [],
   "source": []
  }
 ],
 "metadata": {
  "kernelspec": {
   "display_name": "Python 3 (ipykernel)",
   "language": "python",
   "name": "python3"
  },
  "language_info": {
   "codemirror_mode": {
    "name": "ipython",
    "version": 3
   },
   "file_extension": ".py",
   "mimetype": "text/x-python",
   "name": "python",
   "nbconvert_exporter": "python",
   "pygments_lexer": "ipython3",
   "version": "3.9.7"
  }
 },
 "nbformat": 4,
 "nbformat_minor": 5
}
